{
  "nbformat": 4,
  "nbformat_minor": 0,
  "metadata": {
    "colab": {
      "name": "RadiometricIdentification_2.ipynb",
      "provenance": [],
      "collapsed_sections": [],
      "toc_visible": true
    },
    "kernelspec": {
      "display_name": "Python 3",
      "language": "python",
      "name": "python3"
    },
    "language_info": {
      "codemirror_mode": {
        "name": "ipython",
        "version": 3
      },
      "file_extension": ".py",
      "mimetype": "text/x-python",
      "name": "python",
      "nbconvert_exporter": "python",
      "pygments_lexer": "ipython3",
      "version": "3.8.3"
    },
    "widgets": {
      "application/vnd.jupyter.widget-state+json": {
        "a0adce792252437f9a81ba088bb18e0c": {
          "model_module": "@jupyter-widgets/controls",
          "model_name": "HBoxModel",
          "state": {
            "_view_name": "HBoxView",
            "_dom_classes": [],
            "_model_name": "HBoxModel",
            "_view_module": "@jupyter-widgets/controls",
            "_model_module_version": "1.5.0",
            "_view_count": null,
            "_view_module_version": "1.5.0",
            "box_style": "",
            "layout": "IPY_MODEL_912517e9016944c98d515f498e9227b6",
            "_model_module": "@jupyter-widgets/controls",
            "children": [
              "IPY_MODEL_60b1c3eafbf64f6ba756e1b026f7c214",
              "IPY_MODEL_128f9ef0b7a249eeb75574841f3ba4c6"
            ]
          }
        },
        "912517e9016944c98d515f498e9227b6": {
          "model_module": "@jupyter-widgets/base",
          "model_name": "LayoutModel",
          "state": {
            "_view_name": "LayoutView",
            "grid_template_rows": null,
            "right": null,
            "justify_content": null,
            "_view_module": "@jupyter-widgets/base",
            "overflow": null,
            "_model_module_version": "1.2.0",
            "_view_count": null,
            "flex_flow": null,
            "width": null,
            "min_width": null,
            "border": null,
            "align_items": null,
            "bottom": null,
            "_model_module": "@jupyter-widgets/base",
            "top": null,
            "grid_column": null,
            "overflow_y": null,
            "overflow_x": null,
            "grid_auto_flow": null,
            "grid_area": null,
            "grid_template_columns": null,
            "flex": null,
            "_model_name": "LayoutModel",
            "justify_items": null,
            "grid_row": null,
            "max_height": null,
            "align_content": null,
            "visibility": null,
            "align_self": null,
            "height": null,
            "min_height": null,
            "padding": null,
            "grid_auto_rows": null,
            "grid_gap": null,
            "max_width": null,
            "order": null,
            "_view_module_version": "1.2.0",
            "grid_template_areas": null,
            "object_position": null,
            "object_fit": null,
            "grid_auto_columns": null,
            "margin": null,
            "display": null,
            "left": null
          }
        },
        "60b1c3eafbf64f6ba756e1b026f7c214": {
          "model_module": "@jupyter-widgets/controls",
          "model_name": "FloatProgressModel",
          "state": {
            "_view_name": "ProgressView",
            "style": "IPY_MODEL_5b1ff65682404921bf691cf3a601b8df",
            "_dom_classes": [],
            "description": "100%",
            "_model_name": "FloatProgressModel",
            "bar_style": "success",
            "max": 49,
            "_view_module": "@jupyter-widgets/controls",
            "_model_module_version": "1.5.0",
            "value": 49,
            "_view_count": null,
            "_view_module_version": "1.5.0",
            "orientation": "horizontal",
            "min": 0,
            "description_tooltip": null,
            "_model_module": "@jupyter-widgets/controls",
            "layout": "IPY_MODEL_0db6b6412b7b420bb7f3bb1af60b21a2"
          }
        },
        "128f9ef0b7a249eeb75574841f3ba4c6": {
          "model_module": "@jupyter-widgets/controls",
          "model_name": "HTMLModel",
          "state": {
            "_view_name": "HTMLView",
            "style": "IPY_MODEL_3d37f5e1aa1541d7a65bc9ac117e0274",
            "_dom_classes": [],
            "description": "",
            "_model_name": "HTMLModel",
            "placeholder": "​",
            "_view_module": "@jupyter-widgets/controls",
            "_model_module_version": "1.5.0",
            "value": " 49/49 [01:18&lt;00:00,  1.60s/it]",
            "_view_count": null,
            "_view_module_version": "1.5.0",
            "description_tooltip": null,
            "_model_module": "@jupyter-widgets/controls",
            "layout": "IPY_MODEL_13c0463ac1f1478aa42e04d6c700004e"
          }
        },
        "5b1ff65682404921bf691cf3a601b8df": {
          "model_module": "@jupyter-widgets/controls",
          "model_name": "ProgressStyleModel",
          "state": {
            "_view_name": "StyleView",
            "_model_name": "ProgressStyleModel",
            "description_width": "initial",
            "_view_module": "@jupyter-widgets/base",
            "_model_module_version": "1.5.0",
            "_view_count": null,
            "_view_module_version": "1.2.0",
            "bar_color": null,
            "_model_module": "@jupyter-widgets/controls"
          }
        },
        "0db6b6412b7b420bb7f3bb1af60b21a2": {
          "model_module": "@jupyter-widgets/base",
          "model_name": "LayoutModel",
          "state": {
            "_view_name": "LayoutView",
            "grid_template_rows": null,
            "right": null,
            "justify_content": null,
            "_view_module": "@jupyter-widgets/base",
            "overflow": null,
            "_model_module_version": "1.2.0",
            "_view_count": null,
            "flex_flow": null,
            "width": null,
            "min_width": null,
            "border": null,
            "align_items": null,
            "bottom": null,
            "_model_module": "@jupyter-widgets/base",
            "top": null,
            "grid_column": null,
            "overflow_y": null,
            "overflow_x": null,
            "grid_auto_flow": null,
            "grid_area": null,
            "grid_template_columns": null,
            "flex": null,
            "_model_name": "LayoutModel",
            "justify_items": null,
            "grid_row": null,
            "max_height": null,
            "align_content": null,
            "visibility": null,
            "align_self": null,
            "height": null,
            "min_height": null,
            "padding": null,
            "grid_auto_rows": null,
            "grid_gap": null,
            "max_width": null,
            "order": null,
            "_view_module_version": "1.2.0",
            "grid_template_areas": null,
            "object_position": null,
            "object_fit": null,
            "grid_auto_columns": null,
            "margin": null,
            "display": null,
            "left": null
          }
        },
        "3d37f5e1aa1541d7a65bc9ac117e0274": {
          "model_module": "@jupyter-widgets/controls",
          "model_name": "DescriptionStyleModel",
          "state": {
            "_view_name": "StyleView",
            "_model_name": "DescriptionStyleModel",
            "description_width": "",
            "_view_module": "@jupyter-widgets/base",
            "_model_module_version": "1.5.0",
            "_view_count": null,
            "_view_module_version": "1.2.0",
            "_model_module": "@jupyter-widgets/controls"
          }
        },
        "13c0463ac1f1478aa42e04d6c700004e": {
          "model_module": "@jupyter-widgets/base",
          "model_name": "LayoutModel",
          "state": {
            "_view_name": "LayoutView",
            "grid_template_rows": null,
            "right": null,
            "justify_content": null,
            "_view_module": "@jupyter-widgets/base",
            "overflow": null,
            "_model_module_version": "1.2.0",
            "_view_count": null,
            "flex_flow": null,
            "width": null,
            "min_width": null,
            "border": null,
            "align_items": null,
            "bottom": null,
            "_model_module": "@jupyter-widgets/base",
            "top": null,
            "grid_column": null,
            "overflow_y": null,
            "overflow_x": null,
            "grid_auto_flow": null,
            "grid_area": null,
            "grid_template_columns": null,
            "flex": null,
            "_model_name": "LayoutModel",
            "justify_items": null,
            "grid_row": null,
            "max_height": null,
            "align_content": null,
            "visibility": null,
            "align_self": null,
            "height": null,
            "min_height": null,
            "padding": null,
            "grid_auto_rows": null,
            "grid_gap": null,
            "max_width": null,
            "order": null,
            "_view_module_version": "1.2.0",
            "grid_template_areas": null,
            "object_position": null,
            "object_fit": null,
            "grid_auto_columns": null,
            "margin": null,
            "display": null,
            "left": null
          }
        }
      }
    }
  },
  "cells": [
    {
      "cell_type": "code",
      "metadata": {
        "id": "3tuP5rEhxko8"
      },
      "source": [
        "#uncomment if you use Google Colab\n",
        "\n",
        "#from google.colab import drive\n",
        "#drive.mount('/content/drive', force_remount=True)"
      ],
      "execution_count": null,
      "outputs": []
    },
    {
      "cell_type": "code",
      "metadata": {
        "id": "uy-1rd7PxwvX"
      },
      "source": [
        "# cd in the directory with the dataset"
      ],
      "execution_count": null,
      "outputs": []
    },
    {
      "cell_type": "markdown",
      "metadata": {
        "id": "5UrpagOp0ml9"
      },
      "source": [
        "## Loading the dataset"
      ]
    },
    {
      "cell_type": "code",
      "metadata": {
        "id": "ZnmJPW-txxzr",
        "colab": {
          "base_uri": "https://localhost:8080/"
        },
        "outputId": "b43981d5-3073-4e1a-8b72-fc37656ae69a"
      },
      "source": [
        "import pandas as pd\n",
        "import numpy as np\n",
        "\n",
        "colnames = [\"S_Mean\", \"S_Max-Min\", \"S_Max-|Min|\", \"S_sumYup - sumYdn\", \"S_(Max-Mean)/(Mean-Min))\", \"S_numYup - numYdn\", \n",
        "            \"S_maxBd\", \"S_RangeJDy\", \"S_F\", \"S_Ph\",\n",
        "            \"L_Mean\", \"L_Max-Min\", \"L_Max-|Min|\", \"L_sumYup - sumYdn\", \"L_(Max-Mean)/(Mean-Min))\", \"L_numYup - numYdn\", \n",
        "            \"L_maxBd\", \"L_RangeJDy\", \"L_F\", \"L_Ph\",\n",
        "            \"y\"]\n",
        "phase_colnames = []\n",
        "abs_colnames = []\n",
        "for f_name in colnames:\n",
        "    phase_colnames.append(f_name + \"_phase\")\n",
        "    abs_colnames.append(f_name + \"_abs\")\n",
        "\n",
        "data_phase = pd.read_csv('COMP_PHASE_difference_10_devices_802_11_a_L_STF_LTF_dataset_Hyp1.txt', sep=\",\", names=phase_colnames, header=None)\n",
        "data_abs = pd.read_csv('ABS_difference_10_devices_802_11_a_L_STF_LTF_dataset_Hyp1.txt', sep=\",\", names=abs_colnames, header=None)\n",
        "\n",
        "data = pd.concat([data_abs.drop(\"y_abs\", axis=1), data_phase], axis=1)\n",
        "\n",
        "data = data.replace([np.inf, -np.inf, np.nan], 0)\n",
        "\n",
        "data.reset_index()\n",
        "\n",
        "data.info()"
      ],
      "execution_count": null,
      "outputs": [
        {
          "output_type": "stream",
          "text": [
            "<class 'pandas.core.frame.DataFrame'>\n",
            "RangeIndex: 14000 entries, 0 to 13999\n",
            "Data columns (total 41 columns):\n",
            " #   Column                          Non-Null Count  Dtype  \n",
            "---  ------                          --------------  -----  \n",
            " 0   S_Mean_abs                      14000 non-null  float64\n",
            " 1   S_Max-Min_abs                   14000 non-null  float64\n",
            " 2   S_Max-|Min|_abs                 14000 non-null  float64\n",
            " 3   S_sumYup - sumYdn_abs           14000 non-null  float64\n",
            " 4   S_(Max-Mean)/(Mean-Min))_abs    14000 non-null  float64\n",
            " 5   S_numYup - numYdn_abs           14000 non-null  int64  \n",
            " 6   S_maxBd_abs                     14000 non-null  float64\n",
            " 7   S_RangeJDy_abs                  14000 non-null  float64\n",
            " 8   S_F_abs                         14000 non-null  float64\n",
            " 9   S_Ph_abs                        14000 non-null  float64\n",
            " 10  L_Mean_abs                      14000 non-null  float64\n",
            " 11  L_Max-Min_abs                   14000 non-null  float64\n",
            " 12  L_Max-|Min|_abs                 14000 non-null  float64\n",
            " 13  L_sumYup - sumYdn_abs           14000 non-null  float64\n",
            " 14  L_(Max-Mean)/(Mean-Min))_abs    14000 non-null  float64\n",
            " 15  L_numYup - numYdn_abs           14000 non-null  int64  \n",
            " 16  L_maxBd_abs                     14000 non-null  float64\n",
            " 17  L_RangeJDy_abs                  14000 non-null  float64\n",
            " 18  L_F_abs                         14000 non-null  float64\n",
            " 19  L_Ph_abs                        14000 non-null  float64\n",
            " 20  S_Mean_phase                    14000 non-null  float64\n",
            " 21  S_Max-Min_phase                 14000 non-null  float64\n",
            " 22  S_Max-|Min|_phase               14000 non-null  float64\n",
            " 23  S_sumYup - sumYdn_phase         14000 non-null  float64\n",
            " 24  S_(Max-Mean)/(Mean-Min))_phase  14000 non-null  float64\n",
            " 25  S_numYup - numYdn_phase         14000 non-null  int64  \n",
            " 26  S_maxBd_phase                   14000 non-null  float64\n",
            " 27  S_RangeJDy_phase                14000 non-null  float64\n",
            " 28  S_F_phase                       14000 non-null  float64\n",
            " 29  S_Ph_phase                      14000 non-null  float64\n",
            " 30  L_Mean_phase                    14000 non-null  float64\n",
            " 31  L_Max-Min_phase                 14000 non-null  float64\n",
            " 32  L_Max-|Min|_phase               14000 non-null  float64\n",
            " 33  L_sumYup - sumYdn_phase         14000 non-null  float64\n",
            " 34  L_(Max-Mean)/(Mean-Min))_phase  14000 non-null  float64\n",
            " 35  L_numYup - numYdn_phase         14000 non-null  int64  \n",
            " 36  L_maxBd_phase                   14000 non-null  float64\n",
            " 37  L_RangeJDy_phase                14000 non-null  float64\n",
            " 38  L_F_phase                       14000 non-null  float64\n",
            " 39  L_Ph_phase                      14000 non-null  float64\n",
            " 40  y_phase                         14000 non-null  int64  \n",
            "dtypes: float64(36), int64(5)\n",
            "memory usage: 4.4 MB\n"
          ],
          "name": "stdout"
        }
      ]
    },
    {
      "cell_type": "code",
      "metadata": {
        "id": "bAQqrsmpyFTe",
        "colab": {
          "base_uri": "https://localhost:8080/",
          "height": 349
        },
        "outputId": "f2dc539b-1b4f-43c1-f1b0-e14a3947925c"
      },
      "source": [
        "data.describe()"
      ],
      "execution_count": null,
      "outputs": [
        {
          "output_type": "execute_result",
          "data": {
            "text/html": [
              "<div>\n",
              "<style scoped>\n",
              "    .dataframe tbody tr th:only-of-type {\n",
              "        vertical-align: middle;\n",
              "    }\n",
              "\n",
              "    .dataframe tbody tr th {\n",
              "        vertical-align: top;\n",
              "    }\n",
              "\n",
              "    .dataframe thead th {\n",
              "        text-align: right;\n",
              "    }\n",
              "</style>\n",
              "<table border=\"1\" class=\"dataframe\">\n",
              "  <thead>\n",
              "    <tr style=\"text-align: right;\">\n",
              "      <th></th>\n",
              "      <th>S_Mean_abs</th>\n",
              "      <th>S_Max-Min_abs</th>\n",
              "      <th>S_Max-|Min|_abs</th>\n",
              "      <th>S_sumYup - sumYdn_abs</th>\n",
              "      <th>S_(Max-Mean)/(Mean-Min))_abs</th>\n",
              "      <th>S_numYup - numYdn_abs</th>\n",
              "      <th>S_maxBd_abs</th>\n",
              "      <th>S_RangeJDy_abs</th>\n",
              "      <th>S_F_abs</th>\n",
              "      <th>S_Ph_abs</th>\n",
              "      <th>L_Mean_abs</th>\n",
              "      <th>L_Max-Min_abs</th>\n",
              "      <th>L_Max-|Min|_abs</th>\n",
              "      <th>L_sumYup - sumYdn_abs</th>\n",
              "      <th>L_(Max-Mean)/(Mean-Min))_abs</th>\n",
              "      <th>L_numYup - numYdn_abs</th>\n",
              "      <th>L_maxBd_abs</th>\n",
              "      <th>L_RangeJDy_abs</th>\n",
              "      <th>L_F_abs</th>\n",
              "      <th>L_Ph_abs</th>\n",
              "      <th>S_Mean_phase</th>\n",
              "      <th>S_Max-Min_phase</th>\n",
              "      <th>S_Max-|Min|_phase</th>\n",
              "      <th>S_sumYup - sumYdn_phase</th>\n",
              "      <th>S_(Max-Mean)/(Mean-Min))_phase</th>\n",
              "      <th>S_numYup - numYdn_phase</th>\n",
              "      <th>S_maxBd_phase</th>\n",
              "      <th>S_RangeJDy_phase</th>\n",
              "      <th>S_F_phase</th>\n",
              "      <th>S_Ph_phase</th>\n",
              "      <th>L_Mean_phase</th>\n",
              "      <th>L_Max-Min_phase</th>\n",
              "      <th>L_Max-|Min|_phase</th>\n",
              "      <th>L_sumYup - sumYdn_phase</th>\n",
              "      <th>L_(Max-Mean)/(Mean-Min))_phase</th>\n",
              "      <th>L_numYup - numYdn_phase</th>\n",
              "      <th>L_maxBd_phase</th>\n",
              "      <th>L_RangeJDy_phase</th>\n",
              "      <th>L_F_phase</th>\n",
              "      <th>L_Ph_phase</th>\n",
              "      <th>y_phase</th>\n",
              "    </tr>\n",
              "  </thead>\n",
              "  <tbody>\n",
              "    <tr>\n",
              "      <th>count</th>\n",
              "      <td>14000.000000</td>\n",
              "      <td>14000.000000</td>\n",
              "      <td>14000.000000</td>\n",
              "      <td>14000.000000</td>\n",
              "      <td>14000.000000</td>\n",
              "      <td>14000.000000</td>\n",
              "      <td>14000.000000</td>\n",
              "      <td>14000.000000</td>\n",
              "      <td>14000.000000</td>\n",
              "      <td>14000.000000</td>\n",
              "      <td>14000.000000</td>\n",
              "      <td>14000.000000</td>\n",
              "      <td>14000.000000</td>\n",
              "      <td>14000.000000</td>\n",
              "      <td>14000.000000</td>\n",
              "      <td>14000.000000</td>\n",
              "      <td>14000.000000</td>\n",
              "      <td>14000.000000</td>\n",
              "      <td>14000.000000</td>\n",
              "      <td>14000.000000</td>\n",
              "      <td>1.400000e+04</td>\n",
              "      <td>14000.000000</td>\n",
              "      <td>14000.000000</td>\n",
              "      <td>14000.000000</td>\n",
              "      <td>14000.000000</td>\n",
              "      <td>14000.000000</td>\n",
              "      <td>14000.000000</td>\n",
              "      <td>14000.000000</td>\n",
              "      <td>14000.000000</td>\n",
              "      <td>14000.000000</td>\n",
              "      <td>1.400000e+04</td>\n",
              "      <td>14000.000000</td>\n",
              "      <td>14000.000000</td>\n",
              "      <td>14000.000000</td>\n",
              "      <td>14000.000000</td>\n",
              "      <td>14000.000000</td>\n",
              "      <td>14000.000000</td>\n",
              "      <td>14000.000000</td>\n",
              "      <td>14000.000000</td>\n",
              "      <td>14000.000000</td>\n",
              "      <td>14000.000000</td>\n",
              "    </tr>\n",
              "    <tr>\n",
              "      <th>mean</th>\n",
              "      <td>-0.007460</td>\n",
              "      <td>0.910944</td>\n",
              "      <td>0.010862</td>\n",
              "      <td>34.918269</td>\n",
              "      <td>1.060130</td>\n",
              "      <td>-6.523571</td>\n",
              "      <td>16.332930</td>\n",
              "      <td>3.286337</td>\n",
              "      <td>1.680959</td>\n",
              "      <td>1.576431</td>\n",
              "      <td>-0.008969</td>\n",
              "      <td>0.980620</td>\n",
              "      <td>0.023202</td>\n",
              "      <td>37.540256</td>\n",
              "      <td>1.094057</td>\n",
              "      <td>-7.262143</td>\n",
              "      <td>17.442292</td>\n",
              "      <td>3.334217</td>\n",
              "      <td>1.914735</td>\n",
              "      <td>1.566316</td>\n",
              "      <td>2.450126e-16</td>\n",
              "      <td>4.297329</td>\n",
              "      <td>0.222321</td>\n",
              "      <td>204.459501</td>\n",
              "      <td>1.199960</td>\n",
              "      <td>3.043714</td>\n",
              "      <td>101.078150</td>\n",
              "      <td>8.210220</td>\n",
              "      <td>0.666397</td>\n",
              "      <td>1.492645</td>\n",
              "      <td>-4.016957e-15</td>\n",
              "      <td>8.703483</td>\n",
              "      <td>0.164851</td>\n",
              "      <td>442.771698</td>\n",
              "      <td>1.156099</td>\n",
              "      <td>-0.861286</td>\n",
              "      <td>219.112373</td>\n",
              "      <td>10.585512</td>\n",
              "      <td>0.933126</td>\n",
              "      <td>1.354525</td>\n",
              "      <td>6.500000</td>\n",
              "    </tr>\n",
              "    <tr>\n",
              "      <th>std</th>\n",
              "      <td>0.011927</td>\n",
              "      <td>0.394089</td>\n",
              "      <td>0.097193</td>\n",
              "      <td>14.511092</td>\n",
              "      <td>0.205226</td>\n",
              "      <td>15.245924</td>\n",
              "      <td>6.212932</td>\n",
              "      <td>1.730175</td>\n",
              "      <td>0.359406</td>\n",
              "      <td>0.853997</td>\n",
              "      <td>0.012331</td>\n",
              "      <td>0.402302</td>\n",
              "      <td>0.101015</td>\n",
              "      <td>15.086020</td>\n",
              "      <td>0.188345</td>\n",
              "      <td>12.619297</td>\n",
              "      <td>6.667779</td>\n",
              "      <td>1.898042</td>\n",
              "      <td>0.352979</td>\n",
              "      <td>0.899704</td>\n",
              "      <td>9.356848e-16</td>\n",
              "      <td>15.871435</td>\n",
              "      <td>1.909267</td>\n",
              "      <td>955.643967</td>\n",
              "      <td>0.806078</td>\n",
              "      <td>27.923990</td>\n",
              "      <td>473.790058</td>\n",
              "      <td>7.946448</td>\n",
              "      <td>0.385077</td>\n",
              "      <td>0.951236</td>\n",
              "      <td>2.898644e-15</td>\n",
              "      <td>19.892895</td>\n",
              "      <td>2.936157</td>\n",
              "      <td>1211.032647</td>\n",
              "      <td>0.608654</td>\n",
              "      <td>39.913052</td>\n",
              "      <td>600.517024</td>\n",
              "      <td>11.541276</td>\n",
              "      <td>0.475815</td>\n",
              "      <td>1.009190</td>\n",
              "      <td>2.872384</td>\n",
              "    </tr>\n",
              "    <tr>\n",
              "      <th>min</th>\n",
              "      <td>-0.132200</td>\n",
              "      <td>0.140070</td>\n",
              "      <td>-0.562510</td>\n",
              "      <td>5.470500</td>\n",
              "      <td>0.522810</td>\n",
              "      <td>-150.000000</td>\n",
              "      <td>2.634800</td>\n",
              "      <td>0.725990</td>\n",
              "      <td>0.146220</td>\n",
              "      <td>0.000011</td>\n",
              "      <td>-0.085286</td>\n",
              "      <td>0.136480</td>\n",
              "      <td>-0.591570</td>\n",
              "      <td>4.957400</td>\n",
              "      <td>0.437140</td>\n",
              "      <td>-84.000000</td>\n",
              "      <td>2.218200</td>\n",
              "      <td>0.601490</td>\n",
              "      <td>0.922040</td>\n",
              "      <td>0.000465</td>\n",
              "      <td>-3.209300e-14</td>\n",
              "      <td>0.230440</td>\n",
              "      <td>-31.166000</td>\n",
              "      <td>7.398200</td>\n",
              "      <td>0.135150</td>\n",
              "      <td>-194.000000</td>\n",
              "      <td>3.643000</td>\n",
              "      <td>0.841660</td>\n",
              "      <td>0.000000</td>\n",
              "      <td>0.000000</td>\n",
              "      <td>-3.458000e-14</td>\n",
              "      <td>0.421810</td>\n",
              "      <td>-50.555000</td>\n",
              "      <td>9.403700</td>\n",
              "      <td>0.199400</td>\n",
              "      <td>-204.000000</td>\n",
              "      <td>4.513600</td>\n",
              "      <td>0.753480</td>\n",
              "      <td>0.000000</td>\n",
              "      <td>0.000000</td>\n",
              "      <td>2.000000</td>\n",
              "    </tr>\n",
              "    <tr>\n",
              "      <th>25%</th>\n",
              "      <td>-0.009886</td>\n",
              "      <td>0.654967</td>\n",
              "      <td>-0.045053</td>\n",
              "      <td>24.745250</td>\n",
              "      <td>0.916300</td>\n",
              "      <td>-16.000000</td>\n",
              "      <td>11.770750</td>\n",
              "      <td>1.946400</td>\n",
              "      <td>1.439275</td>\n",
              "      <td>0.933998</td>\n",
              "      <td>-0.011854</td>\n",
              "      <td>0.708065</td>\n",
              "      <td>-0.034076</td>\n",
              "      <td>26.601750</td>\n",
              "      <td>0.960175</td>\n",
              "      <td>-16.000000</td>\n",
              "      <td>12.483750</td>\n",
              "      <td>1.797250</td>\n",
              "      <td>1.629600</td>\n",
              "      <td>0.797422</td>\n",
              "      <td>7.586500e-17</td>\n",
              "      <td>1.365350</td>\n",
              "      <td>-0.070018</td>\n",
              "      <td>47.293000</td>\n",
              "      <td>0.909550</td>\n",
              "      <td>-4.000000</td>\n",
              "      <td>23.165750</td>\n",
              "      <td>2.931025</td>\n",
              "      <td>0.412158</td>\n",
              "      <td>0.642467</td>\n",
              "      <td>-5.728800e-15</td>\n",
              "      <td>2.081400</td>\n",
              "      <td>-0.259563</td>\n",
              "      <td>51.133750</td>\n",
              "      <td>0.841675</td>\n",
              "      <td>-12.000000</td>\n",
              "      <td>25.065000</td>\n",
              "      <td>2.369075</td>\n",
              "      <td>0.930708</td>\n",
              "      <td>0.386902</td>\n",
              "      <td>4.000000</td>\n",
              "    </tr>\n",
              "    <tr>\n",
              "      <th>50%</th>\n",
              "      <td>-0.003917</td>\n",
              "      <td>0.884440</td>\n",
              "      <td>0.006871</td>\n",
              "      <td>34.241500</td>\n",
              "      <td>1.048800</td>\n",
              "      <td>-6.000000</td>\n",
              "      <td>16.299000</td>\n",
              "      <td>2.888200</td>\n",
              "      <td>1.739700</td>\n",
              "      <td>1.598600</td>\n",
              "      <td>-0.004387</td>\n",
              "      <td>0.972840</td>\n",
              "      <td>0.022618</td>\n",
              "      <td>37.464000</td>\n",
              "      <td>1.091500</td>\n",
              "      <td>-6.000000</td>\n",
              "      <td>17.517500</td>\n",
              "      <td>2.840650</td>\n",
              "      <td>1.948300</td>\n",
              "      <td>1.551100</td>\n",
              "      <td>2.419400e-16</td>\n",
              "      <td>1.972450</td>\n",
              "      <td>0.029899</td>\n",
              "      <td>69.949500</td>\n",
              "      <td>1.038000</td>\n",
              "      <td>2.000000</td>\n",
              "      <td>34.356000</td>\n",
              "      <td>4.954650</td>\n",
              "      <td>0.569570</td>\n",
              "      <td>1.495850</td>\n",
              "      <td>-4.022700e-15</td>\n",
              "      <td>3.128200</td>\n",
              "      <td>0.073693</td>\n",
              "      <td>81.248000</td>\n",
              "      <td>1.059100</td>\n",
              "      <td>-2.000000</td>\n",
              "      <td>39.791000</td>\n",
              "      <td>5.600600</td>\n",
              "      <td>1.074800</td>\n",
              "      <td>1.329600</td>\n",
              "      <td>6.500000</td>\n",
              "    </tr>\n",
              "    <tr>\n",
              "      <th>75%</th>\n",
              "      <td>-0.000508</td>\n",
              "      <td>1.118700</td>\n",
              "      <td>0.062605</td>\n",
              "      <td>44.255250</td>\n",
              "      <td>1.187600</td>\n",
              "      <td>2.000000</td>\n",
              "      <td>20.781250</td>\n",
              "      <td>4.243600</td>\n",
              "      <td>2.009400</td>\n",
              "      <td>2.226500</td>\n",
              "      <td>-0.000994</td>\n",
              "      <td>1.208875</td>\n",
              "      <td>0.083447</td>\n",
              "      <td>47.232000</td>\n",
              "      <td>1.218400</td>\n",
              "      <td>2.000000</td>\n",
              "      <td>22.219250</td>\n",
              "      <td>4.622975</td>\n",
              "      <td>2.236000</td>\n",
              "      <td>2.335200</td>\n",
              "      <td>4.039575e-16</td>\n",
              "      <td>2.606150</td>\n",
              "      <td>0.174172</td>\n",
              "      <td>97.324250</td>\n",
              "      <td>1.194725</td>\n",
              "      <td>12.000000</td>\n",
              "      <td>47.979500</td>\n",
              "      <td>10.334250</td>\n",
              "      <td>0.872955</td>\n",
              "      <td>2.306775</td>\n",
              "      <td>-2.331500e-15</td>\n",
              "      <td>4.323775</td>\n",
              "      <td>0.367010</td>\n",
              "      <td>115.312500</td>\n",
              "      <td>1.303250</td>\n",
              "      <td>8.000000</td>\n",
              "      <td>56.561500</td>\n",
              "      <td>14.013750</td>\n",
              "      <td>1.177425</td>\n",
              "      <td>2.233375</td>\n",
              "      <td>9.000000</td>\n",
              "    </tr>\n",
              "    <tr>\n",
              "      <th>max</th>\n",
              "      <td>0.014751</td>\n",
              "      <td>3.706100</td>\n",
              "      <td>1.465900</td>\n",
              "      <td>117.440000</td>\n",
              "      <td>3.524800</td>\n",
              "      <td>46.000000</td>\n",
              "      <td>45.797000</td>\n",
              "      <td>32.741000</td>\n",
              "      <td>2.156600</td>\n",
              "      <td>3.140600</td>\n",
              "      <td>0.028431</td>\n",
              "      <td>3.374100</td>\n",
              "      <td>1.244400</td>\n",
              "      <td>111.550000</td>\n",
              "      <td>3.102600</td>\n",
              "      <td>36.000000</td>\n",
              "      <td>46.866000</td>\n",
              "      <td>17.550000</td>\n",
              "      <td>2.525600</td>\n",
              "      <td>3.141500</td>\n",
              "      <td>3.233000e-14</td>\n",
              "      <td>305.550000</td>\n",
              "      <td>75.210000</td>\n",
              "      <td>18720.000000</td>\n",
              "      <td>21.244000</td>\n",
              "      <td>190.000000</td>\n",
              "      <td>9283.300000</td>\n",
              "      <td>50.132000</td>\n",
              "      <td>3.069000</td>\n",
              "      <td>3.141500</td>\n",
              "      <td>3.801400e-14</td>\n",
              "      <td>353.150000</td>\n",
              "      <td>26.594000</td>\n",
              "      <td>21227.000000</td>\n",
              "      <td>9.557400</td>\n",
              "      <td>198.000000</td>\n",
              "      <td>10525.000000</td>\n",
              "      <td>51.481000</td>\n",
              "      <td>5.096800</td>\n",
              "      <td>3.141500</td>\n",
              "      <td>11.000000</td>\n",
              "    </tr>\n",
              "  </tbody>\n",
              "</table>\n",
              "</div>"
            ],
            "text/plain": [
              "         S_Mean_abs  S_Max-Min_abs  ...    L_Ph_phase       y_phase\n",
              "count  14000.000000   14000.000000  ...  14000.000000  14000.000000\n",
              "mean      -0.007460       0.910944  ...      1.354525      6.500000\n",
              "std        0.011927       0.394089  ...      1.009190      2.872384\n",
              "min       -0.132200       0.140070  ...      0.000000      2.000000\n",
              "25%       -0.009886       0.654967  ...      0.386902      4.000000\n",
              "50%       -0.003917       0.884440  ...      1.329600      6.500000\n",
              "75%       -0.000508       1.118700  ...      2.233375      9.000000\n",
              "max        0.014751       3.706100  ...      3.141500     11.000000\n",
              "\n",
              "[8 rows x 41 columns]"
            ]
          },
          "metadata": {
            "tags": []
          },
          "execution_count": 3
        }
      ]
    },
    {
      "cell_type": "code",
      "metadata": {
        "id": "COhbZmXrx1qc"
      },
      "source": [
        "import numpy as np\n",
        "\n",
        "X = np.array(data.drop(\"y_phase\", axis=1))\n",
        "y = np.array(data [\"y_phase\"]) - 2"
      ],
      "execution_count": null,
      "outputs": []
    },
    {
      "cell_type": "markdown",
      "metadata": {
        "id": "LFkb690a0quT"
      },
      "source": [
        "## Preprocessing"
      ]
    },
    {
      "cell_type": "code",
      "metadata": {
        "id": "veuiihV8yK8x"
      },
      "source": [
        "from sklearn.preprocessing import MinMaxScaler\n",
        "\n",
        "scaler = MinMaxScaler(feature_range=(0, 1))\n",
        "scaler.fit(X)\n",
        "X = scaler.transform(X)"
      ],
      "execution_count": null,
      "outputs": []
    },
    {
      "cell_type": "code",
      "metadata": {
        "id": "j5tOpBhUyMkB"
      },
      "source": [
        "from sklearn.model_selection import train_test_split\n",
        "\n",
        "X_train, X_test, y_train, y_test = train_test_split(X, y, test_size = 0.3, shuffle=True, stratify=y)"
      ],
      "execution_count": null,
      "outputs": []
    },
    {
      "cell_type": "markdown",
      "metadata": {
        "id": "kL4Wj2Wv0xjp"
      },
      "source": [
        "## Baseline Classifiers"
      ]
    },
    {
      "cell_type": "code",
      "metadata": {
        "id": "MRJ-bqKrYUlo"
      },
      "source": [
        "from sklearn.model_selection import GridSearchCV\n",
        "from matplotlib import pylab as plt\n",
        "import seaborn as sns\n",
        "%matplotlib inline"
      ],
      "execution_count": null,
      "outputs": []
    },
    {
      "cell_type": "markdown",
      "metadata": {
        "id": "bIdueAnh1EC0"
      },
      "source": [
        "### Decision Tree"
      ]
    },
    {
      "cell_type": "code",
      "metadata": {
        "id": "88NpCI-nyOCy",
        "colab": {
          "base_uri": "https://localhost:8080/"
        },
        "outputId": "ceff0c97-68b8-40a6-e627-91572eaae662"
      },
      "source": [
        "from sklearn.tree import DecisionTreeClassifier\n",
        "from sklearn.metrics import accuracy_score, confusion_matrix\n",
        "\n",
        "params = {'max_depth' : range(1, 25),\n",
        "          }\n",
        "\n",
        "\n",
        "clf = DecisionTreeClassifier()\n",
        "dt = GridSearchCV(clf, params, n_jobs=-1, cv=3)\n",
        "dt.fit(X_train, y_train)\n",
        "dt_best_params = dt.best_params_\n",
        "dt = dt.best_estimator_\n",
        "# print('f1: \\t{:.4}'.format(f1_score(y_test, dt.predict(X_test), average='macro')))\n",
        "y_pred = dt.predict(X_test)\n",
        "print('acc:\\t{:.4}'.format(accuracy_score(y_test, y_pred)))\n",
        "print('best params {}'.format(dt_best_params))"
      ],
      "execution_count": null,
      "outputs": [
        {
          "output_type": "stream",
          "text": [
            "acc:\t0.8738\n",
            "best params {'max_depth': 9}\n"
          ],
          "name": "stdout"
        }
      ]
    },
    {
      "cell_type": "code",
      "metadata": {
        "id": "NV46z-8RyR4s",
        "scrolled": true,
        "colab": {
          "base_uri": "https://localhost:8080/",
          "height": 592
        },
        "outputId": "72a3c198-8be8-4c66-9276-dce42647131b"
      },
      "source": [
        "plt.figure(figsize=(13, 10))\n",
        "cf_matrix = confusion_matrix(y_test, y_pred)\n",
        "sns.heatmap(cf_matrix, annot=True, fmt=\"d\")\n",
        "plt.show() "
      ],
      "execution_count": null,
      "outputs": [
        {
          "output_type": "display_data",
          "data": {
            "image/png": "[encoded data removed]",
            "text/plain": [
              "<Figure size 936x720 with 2 Axes>"
            ]
          },
          "metadata": {
            "tags": [],
            "needs_background": "light"
          }
        }
      ]
    },
    {
      "cell_type": "markdown",
      "metadata": {
        "id": "arElYUBr1HrL"
      },
      "source": [
        "### Random Forest"
      ]
    },
    {
      "cell_type": "code",
      "metadata": {
        "id": "gHT4WQfDyT2g",
        "colab": {
          "base_uri": "https://localhost:8080/",
          "height": 139,
          "referenced_widgets": [
            "a0adce792252437f9a81ba088bb18e0c",
            "912517e9016944c98d515f498e9227b6",
            "60b1c3eafbf64f6ba756e1b026f7c214",
            "128f9ef0b7a249eeb75574841f3ba4c6",
            "5b1ff65682404921bf691cf3a601b8df",
            "0db6b6412b7b420bb7f3bb1af60b21a2",
            "3d37f5e1aa1541d7a65bc9ac117e0274",
            "13c0463ac1f1478aa42e04d6c700004e"
          ]
        },
        "outputId": "06d0c90e-b367-4c7d-cf31-e518ee94d441"
      },
      "source": [
        "from sklearn.ensemble import RandomForestClassifier\n",
        "# import progressbar\n",
        "from tqdm import tqdm_notebook as tqdm\n",
        "\n",
        "#simple hyperparameters search\n",
        "RF = RandomForestClassifier()\n",
        "RF_acc = []\n",
        "\n",
        "for i in tqdm(range(1, 50)):\n",
        "    RF.n_estimators = i\n",
        "    RF.fit(X_train, y_train)\n",
        "    RF_acc.append(accuracy_score(RF.predict(X_test), y_test))\n",
        "        \n",
        "        \n",
        "        "
      ],
      "execution_count": null,
      "outputs": [
        {
          "output_type": "stream",
          "text": [
            "/usr/local/lib/python3.6/dist-packages/ipykernel_launcher.py:9: TqdmDeprecationWarning: This function will be removed in tqdm==5.0.0\n",
            "Please use `tqdm.notebook.tqdm` instead of `tqdm.tqdm_notebook`\n",
            "  if __name__ == '__main__':\n"
          ],
          "name": "stderr"
        },
        {
          "output_type": "display_data",
          "data": {
            "application/vnd.jupyter.widget-view+json": {
              "model_id": "a0adce792252437f9a81ba088bb18e0c",
              "version_minor": 0,
              "version_major": 2
            },
            "text/plain": [
              "HBox(children=(FloatProgress(value=0.0, max=49.0), HTML(value='')))"
            ]
          },
          "metadata": {
            "tags": []
          }
        },
        {
          "output_type": "stream",
          "text": [
            "\n"
          ],
          "name": "stdout"
        }
      ]
    },
    {
      "cell_type": "code",
      "metadata": {
        "id": "YWQE9JrryWjG",
        "colab": {
          "base_uri": "https://localhost:8080/",
          "height": 283
        },
        "outputId": "e7a2eb26-353b-406b-ecb5-08e3f1395e4f"
      },
      "source": [
        "plt.plot(RF_acc)\n",
        "print(max(RF_acc))"
      ],
      "execution_count": null,
      "outputs": [
        {
          "output_type": "stream",
          "text": [
            "0.9330952380952381\n"
          ],
          "name": "stdout"
        },
        {
          "output_type": "display_data",
          "data": {
            "image/png": "[encoded data removed]",
            "text/plain": [
              "<Figure size 432x288 with 1 Axes>"
            ]
          },
          "metadata": {
            "tags": [],
            "needs_background": "light"
          }
        }
      ]
    },
    {
      "cell_type": "code",
      "metadata": {
        "id": "jZtc_58wy4AK",
        "colab": {
          "base_uri": "https://localhost:8080/",
          "height": 592
        },
        "outputId": "bf08fd14-69a5-4d2d-c415-303793bcd299"
      },
      "source": [
        "plt.figure(figsize=(13, 10))\n",
        "cf_matrix = confusion_matrix(RF.predict(X_test), y_test)\n",
        "sns.heatmap(cf_matrix, annot=True, fmt=\"d\")\n",
        "plt.show() "
      ],
      "execution_count": null,
      "outputs": [
        {
          "output_type": "display_data",
          "data": {
            "image/png": "[encoded data removed]",
            "text/plain": [
              "<Figure size 936x720 with 2 Axes>"
            ]
          },
          "metadata": {
            "tags": [],
            "needs_background": "light"
          }
        }
      ]
    },
    {
      "cell_type": "markdown",
      "metadata": {
        "id": "N8QL7B8R1MGK"
      },
      "source": [
        "### Gradient Boosting"
      ]
    },
    {
      "cell_type": "code",
      "metadata": {
        "id": "o_0rL4g5y7kY",
        "colab": {
          "base_uri": "https://localhost:8080/"
        },
        "outputId": "33c3f64f-6257-4151-a69a-125989cc8265"
      },
      "source": [
        "from sklearn.ensemble import GradientBoostingClassifier\n",
        "\n",
        "clf = GradientBoostingClassifier(random_state=0, learning_rate=0.3, n_estimators=200)\n",
        "clf.fit(X_train, y_train)"
      ],
      "execution_count": null,
      "outputs": [
        {
          "output_type": "execute_result",
          "data": {
            "text/plain": [
              "GradientBoostingClassifier(ccp_alpha=0.0, criterion='friedman_mse', init=None,\n",
              "                           learning_rate=0.3, loss='deviance', max_depth=3,\n",
              "                           max_features=None, max_leaf_nodes=None,\n",
              "                           min_impurity_decrease=0.0, min_impurity_split=None,\n",
              "                           min_samples_leaf=1, min_samples_split=2,\n",
              "                           min_weight_fraction_leaf=0.0, n_estimators=200,\n",
              "                           n_iter_no_change=None, presort='deprecated',\n",
              "                           random_state=0, subsample=1.0, tol=0.0001,\n",
              "                           validation_fraction=0.1, verbose=0,\n",
              "                           warm_start=False)"
            ]
          },
          "metadata": {
            "tags": []
          },
          "execution_count": 13
        }
      ]
    },
    {
      "cell_type": "code",
      "metadata": {
        "id": "j5mzk1yzy_sG",
        "colab": {
          "base_uri": "https://localhost:8080/"
        },
        "outputId": "2cbbe95f-84de-4f0f-c967-002be43fa6d1"
      },
      "source": [
        "clf.score(X_test, y_test)"
      ],
      "execution_count": null,
      "outputs": [
        {
          "output_type": "execute_result",
          "data": {
            "text/plain": [
              "0.9414285714285714"
            ]
          },
          "metadata": {
            "tags": []
          },
          "execution_count": 15
        }
      ]
    },
    {
      "cell_type": "code",
      "metadata": {
        "id": "6SY54E7h0RWc",
        "colab": {
          "base_uri": "https://localhost:8080/",
          "height": 592
        },
        "outputId": "7c88c8f0-0ac2-4268-8b8d-134e9b58a906"
      },
      "source": [
        "plt.figure(figsize=(13, 10))\n",
        "cf_matrix = confusion_matrix(clf.predict(X_test), y_test)\n",
        "sns.heatmap(cf_matrix, annot=True, fmt=\"d\")\n",
        "plt.show() \n",
        "\n",
        "# Labels, title and ticks\n",
        "# label_font = {'size':'18'}  # Adjust to fit\n",
        "# ax.set_xlabel('Predicted labels', fontdict=label_font);\n",
        "# ax.set_ylabel('True labels', fontdict=label_font);\n",
        "\n",
        "# title_font = {'size':'21'}  # Adjust to fit\n",
        "# ax.set_title('Confusion Matrix', fontdict=title_font);\n",
        "\n",
        "# plt.show() "
      ],
      "execution_count": null,
      "outputs": [
        {
          "output_type": "display_data",
          "data": {
            "image/png": "[encoded data removed]",
            "text/plain": [
              "<Figure size 936x720 with 2 Axes>"
            ]
          },
          "metadata": {
            "tags": [],
            "needs_background": "light"
          }
        }
      ]
    },
    {
      "cell_type": "markdown",
      "metadata": {
        "id": "JM_jYrM5YUlt"
      },
      "source": [
        "### XGBoost"
      ]
    },
    {
      "cell_type": "code",
      "metadata": {
        "id": "kst0XYo4YUlt"
      },
      "source": [
        "import xgboost as xgb"
      ],
      "execution_count": null,
      "outputs": []
    },
    {
      "cell_type": "code",
      "metadata": {
        "colab": {
          "base_uri": "https://localhost:8080/"
        },
        "id": "rrO8ARSuYUlu",
        "outputId": "8261b383-dd18-470b-b459-12d84a98272c"
      },
      "source": [
        "# params = {\"max_depth\" : range(3, 15), \n",
        "#           \"learning_rate\" : np.linspace(0.01, 1, 3),\n",
        "#           \"n_estimators\" : range(100, 400, 100)}\n",
        "params={}\n",
        "clf = xgb.XGBClassifier()\n",
        "clf = GridSearchCV(clf, params, n_jobs=-1, cv=3, verbose=2)\n",
        "clf.fit(X_train, y_train)\n",
        "xgb_best_params = clf.best_params_\n",
        "clf = clf.best_estimator_"
      ],
      "execution_count": null,
      "outputs": [
        {
          "output_type": "stream",
          "text": [
            "Fitting 3 folds for each of 1 candidates, totalling 3 fits\n"
          ],
          "name": "stdout"
        },
        {
          "output_type": "stream",
          "text": [
            "[Parallel(n_jobs=-1)]: Using backend LokyBackend with 2 concurrent workers.\n",
            "[Parallel(n_jobs=-1)]: Done   3 out of   3 | elapsed:   49.0s finished\n"
          ],
          "name": "stderr"
        }
      ]
    },
    {
      "cell_type": "code",
      "metadata": {
        "colab": {
          "base_uri": "https://localhost:8080/"
        },
        "id": "U2BUryaTYUlu",
        "outputId": "c322ce30-eb1a-4917-af4a-2e83b1d5802a"
      },
      "source": [
        "y_pred = clf.predict(X_test)\n",
        "print('acc:\\t{:.4}'.format(accuracy_score(y_test, y_pred)))\n",
        "print('best params {}'.format(xgb_best_params))"
      ],
      "execution_count": null,
      "outputs": [
        {
          "output_type": "stream",
          "text": [
            "acc:\t0.925\n",
            "best params {}\n"
          ],
          "name": "stdout"
        }
      ]
    },
    {
      "cell_type": "code",
      "metadata": {
        "colab": {
          "base_uri": "https://localhost:8080/",
          "height": 592
        },
        "id": "UohoCVsBYUlv",
        "outputId": "81a0a530-20b3-4ee4-c11c-9ecc6296a0bd"
      },
      "source": [
        "plt.figure(figsize=(13, 10))\n",
        "cf_matrix = confusion_matrix(y_pred, y_test)\n",
        "sns.heatmap(cf_matrix, annot=True, fmt=\"d\")\n",
        "plt.show() "
      ],
      "execution_count": null,
      "outputs": [
        {
          "output_type": "display_data",
          "data": {
            "image/png": "[encoded data removed]",
            "text/plain": [
              "<Figure size 936x720 with 2 Axes>"
            ]
          },
          "metadata": {
            "tags": [],
            "needs_background": "light"
          }
        }
      ]
    },
    {
      "cell_type": "markdown",
      "metadata": {
        "id": "b-dRv6T68PdA"
      },
      "source": [
        "## Best model's (Random Forest) hyperparameter tuning"
      ]
    },
    {
      "cell_type": "code",
      "metadata": {
        "scrolled": true,
        "id": "dwJjJ31ZYUlv"
      },
      "source": [
        "from sklearn.ensemble import RandomForestClassifier\n",
        "from sklearn.model_selection import RandomizedSearchCV\n",
        "from pprint import pprint\n",
        "# import progressbar\n",
        "from tqdm import tqdm_notebook as tqdm\n",
        "from sklearn.metrics import accuracy_score\n",
        "\n",
        "# Number of trees in random forest\n",
        "n_estimators = [200, 500, 1000, 2500, 5000]\n",
        "# Number of features to consider at every split\n",
        "max_features = ['auto', 'sqrt', 'log2']\n",
        "# Maximum number of levels in tree\n",
        "max_depth = [10, 20, 30, 50, 70]\n",
        "max_depth.append(None)\n",
        "# Minimum number of samples required to split a node\n",
        "min_samples_split = [2, 5, 10, 20]\n",
        "# Minimum number of samples required at each leaf node\n",
        "min_samples_leaf = [1, 2, 4, 10]\n",
        "# Method of selecting samples for training each tree\n",
        "bootstrap = [True, False]\n",
        "# Create the random grid\n",
        "random_grid = {'n_estimators': n_estimators,\n",
        "               'max_features': max_features,\n",
        "               'max_depth': max_depth,\n",
        "               'min_samples_split': min_samples_split,\n",
        "               'min_samples_leaf': min_samples_leaf,\n",
        "               'bootstrap': bootstrap}"
      ],
      "execution_count": null,
      "outputs": []
    },
    {
      "cell_type": "code",
      "metadata": {
        "colab": {
          "base_uri": "https://localhost:8080/"
        },
        "id": "5KkOOTrBYUlw",
        "outputId": "3c68f50a-bf3d-41d2-d806-268bb9c62bc7"
      },
      "source": [
        "# Use the random grid to search for best hyperparameters\n",
        "# First create the base model to tune\n",
        "rf = RandomForestClassifier()\n",
        "rf.fit(X_train, y_train)\n",
        "# Random search of parameters, using 3 fold cross validation, \n",
        "# search across 10 different combinations, and use all available cores\n",
        "rf_tuned = RandomizedSearchCV(estimator = rf, param_distributions = random_grid, n_iter = 2, cv = 3, verbose=2, random_state=42, n_jobs = -1)\n",
        "# Fit the random search model\n",
        "rf_tuned.fit(X_train, y_train)\n",
        "rf_acc = accuracy_score(rf.predict(X_test), y_test)\n",
        "rf_tuned_acc = accuracy_score(rf_tuned.predict(X_test), y_test)\n",
        "print ('base model accuracy: {}\\ntuned model accuracy: {}'.format(rf_acc, rf_tuned_acc))"
      ],
      "execution_count": null,
      "outputs": [
        {
          "output_type": "stream",
          "text": [
            "Fitting 3 folds for each of 2 candidates, totalling 6 fits\n"
          ],
          "name": "stdout"
        },
        {
          "output_type": "stream",
          "text": [
            "[Parallel(n_jobs=-1)]: Using backend LokyBackend with 2 concurrent workers.\n",
            "/usr/local/lib/python3.6/dist-packages/joblib/externals/loky/process_executor.py:691: UserWarning: A worker stopped while some jobs were given to the executor. This can be caused by a too short worker timeout or by a memory leak.\n",
            "  \"timeout or by a memory leak.\", UserWarning\n",
            "[Parallel(n_jobs=-1)]: Done   6 out of   6 | elapsed:  7.5min finished\n"
          ],
          "name": "stderr"
        },
        {
          "output_type": "stream",
          "text": [
            "base model accuracy: 0.934047619047619\n",
            "tuned model accuracy: 0.934047619047619\n"
          ],
          "name": "stdout"
        }
      ]
    },
    {
      "cell_type": "code",
      "metadata": {
        "colab": {
          "base_uri": "https://localhost:8080/"
        },
        "id": "trgXu2AWYUlx",
        "outputId": "f4f83ce8-933f-4c12-cc6b-271d2ce8208d"
      },
      "source": [
        "rf_tuned.best_params_"
      ],
      "execution_count": null,
      "outputs": [
        {
          "output_type": "execute_result",
          "data": {
            "text/plain": [
              "{'bootstrap': True,\n",
              " 'max_depth': None,\n",
              " 'max_features': 'sqrt',\n",
              " 'min_samples_leaf': 1,\n",
              " 'min_samples_split': 10,\n",
              " 'n_estimators': 5000}"
            ]
          },
          "metadata": {
            "tags": []
          },
          "execution_count": 31
        }
      ]
    },
    {
      "cell_type": "markdown",
      "metadata": {
        "id": "Py8-W5XF79hD"
      },
      "source": [
        "## Feature importance analysis"
      ]
    },
    {
      "cell_type": "markdown",
      "metadata": {
        "id": "auYwWv2d8Fed"
      },
      "source": [
        "Try something from here\n",
        "https://scikit-learn.org/stable/modules/feature_selection.html"
      ]
    },
    {
      "cell_type": "markdown",
      "metadata": {
        "id": "jjUbHvLg7Id9"
      },
      "source": [
        "Mean decrease impurity"
      ]
    },
    {
      "cell_type": "code",
      "metadata": {
        "id": "yh9svO3J8Ah8",
        "colab": {
          "base_uri": "https://localhost:8080/"
        },
        "outputId": "4f74cfd6-1d0c-4eef-f82c-2cc744677c24"
      },
      "source": [
        "from sklearn.ensemble import RandomForestRegressor\r\n",
        "import numpy as np\r\n",
        "#Load boston housing dataset as an example\r\n",
        "rf = RandomForestRegressor()\r\n",
        "rf.fit(X_train, y_train)\r\n",
        "print(\"Features sorted by their score:\")\r\n",
        "print(sorted(zip(map(lambda x: round(x, 4), rf.feature_importances_), colnames), \r\n",
        "             reverse=True))"
      ],
      "execution_count": null,
      "outputs": [
        {
          "output_type": "stream",
          "text": [
            "Features sorted by their score:\n",
            "[(0.2527, 'L_Mean'), (0.2083, 'S_Mean'), (0.0485, 'S_RangeJDy'), (0.0284, 'S_F'), (0.0198, 'S_Max-Min'), (0.0175, 'L_maxBd'), (0.0172, 'L_Max-Min'), (0.012, 'L_RangeJDy'), (0.0093, 'L_F'), (0.0075, 'S_(Max-Mean)/(Mean-Min))'), (0.0061, 'S_Max-|Min|'), (0.0053, 'S_sumYup - sumYdn'), (0.0053, 'L_sumYup - sumYdn'), (0.0051, 'L_Ph'), (0.0046, 'S_Ph'), (0.0043, 'L_numYup - numYdn'), (0.0041, 'y'), (0.0041, 'L_Max-|Min|'), (0.004, 'L_(Max-Mean)/(Mean-Min))'), (0.0036, 'S_numYup - numYdn'), (0.0033, 'S_maxBd')]\n"
          ],
          "name": "stdout"
        }
      ]
    },
    {
      "cell_type": "markdown",
      "metadata": {
        "id": "Jq_9-oxh1uUl"
      },
      "source": [
        "Another method "
      ]
    },
    {
      "cell_type": "code",
      "metadata": {
        "id": "q1S08HGj26QJ"
      },
      "source": [
        "import pandas as pd\r\n",
        "#from sklearn.ensemble import RandomForestClassfier\r\n",
        "from sklearn.feature_selection import SelectFromModel\r\n"
      ],
      "execution_count": null,
      "outputs": []
    },
    {
      "cell_type": "code",
      "metadata": {
        "colab": {
          "base_uri": "https://localhost:8080/"
        },
        "id": "OmgAgz0j3ILV",
        "outputId": "4463b3bb-ef97-437a-c544-dd32ee70f8f8"
      },
      "source": [
        "sel = SelectFromModel(RandomForestClassifier(n_estimators = 100))\r\n",
        "sel.fit(X_train, y_train)"
      ],
      "execution_count": null,
      "outputs": [
        {
          "output_type": "execute_result",
          "data": {
            "text/plain": [
              "SelectFromModel(estimator=RandomForestClassifier(bootstrap=True, ccp_alpha=0.0,\n",
              "                                                 class_weight=None,\n",
              "                                                 criterion='gini',\n",
              "                                                 max_depth=None,\n",
              "                                                 max_features='auto',\n",
              "                                                 max_leaf_nodes=None,\n",
              "                                                 max_samples=None,\n",
              "                                                 min_impurity_decrease=0.0,\n",
              "                                                 min_impurity_split=None,\n",
              "                                                 min_samples_leaf=1,\n",
              "                                                 min_samples_split=2,\n",
              "                                                 min_weight_fraction_leaf=0.0,\n",
              "                                                 n_estimators=100, n_jobs=None,\n",
              "                                                 oob_score=False,\n",
              "                                                 random_state=None, verbose=0,\n",
              "                                                 warm_start=False),\n",
              "                max_features=None, norm_order=1, prefit=False, threshold=None)"
            ]
          },
          "metadata": {
            "tags": []
          },
          "execution_count": 45
        }
      ]
    },
    {
      "cell_type": "code",
      "metadata": {
        "colab": {
          "base_uri": "https://localhost:8080/"
        },
        "id": "oYzyBeOQ3I8-",
        "outputId": "dc737e57-3395-43e0-9451-1f3cf836d589"
      },
      "source": [
        "sel.get_support()"
      ],
      "execution_count": null,
      "outputs": [
        {
          "output_type": "execute_result",
          "data": {
            "text/plain": [
              "array([ True,  True, False,  True, False, False, False,  True,  True,\n",
              "       False,  True, False, False, False, False, False, False,  True,\n",
              "        True, False, False, False, False, False, False,  True, False,\n",
              "        True, False, False, False,  True, False,  True, False, False,\n",
              "        True,  True, False, False])"
            ]
          },
          "metadata": {
            "tags": []
          },
          "execution_count": 46
        }
      ]
    },
    {
      "cell_type": "code",
      "metadata": {
        "colab": {
          "base_uri": "https://localhost:8080/"
        },
        "id": "-roZqSWh3MGV",
        "outputId": "59cce7c9-f27e-4bb9-8ba7-ade294c30bc9"
      },
      "source": [
        "X_train_dataframe = pd.DataFrame(X_train)\r\n",
        "selected_feat_train = X_train_dataframe.columns[(sel.get_support())]\r\n",
        "len(selected_feat)\r\n",
        "selected_feat_test = X_test_dataframe.columns[(sel.get_support())]"
      ],
      "execution_count": null,
      "outputs": [
        {
          "output_type": "execute_result",
          "data": {
            "text/plain": [
              "14"
            ]
          },
          "metadata": {
            "tags": []
          },
          "execution_count": 54
        }
      ]
    },
    {
      "cell_type": "code",
      "metadata": {
        "colab": {
          "base_uri": "https://localhost:8080/"
        },
        "id": "7DnIh3vi3N7v",
        "outputId": "6d1f6aae-64fb-4ed3-9cbc-407459fbc4a7"
      },
      "source": [
        "print(selected_feat_train)"
      ],
      "execution_count": null,
      "outputs": [
        {
          "output_type": "stream",
          "text": [
            "Int64Index([0, 1, 3, 7, 8, 10, 17, 18, 25, 27, 31, 33, 36, 37], dtype='int64')\n"
          ],
          "name": "stdout"
        }
      ]
    },
    {
      "cell_type": "code",
      "metadata": {
        "colab": {
          "base_uri": "https://localhost:8080/",
          "height": 283
        },
        "id": "7OVL3mME3Rag",
        "outputId": "f559b38b-caa6-4c67-c393-cb0d3c59ca63"
      },
      "source": [
        "pd.Series(sel.estimator_.feature_importances_.ravel()).hist()"
      ],
      "execution_count": null,
      "outputs": [
        {
          "output_type": "execute_result",
          "data": {
            "text/plain": [
              "<matplotlib.axes._subplots.AxesSubplot at 0x7f1a943b3630>"
            ]
          },
          "metadata": {
            "tags": []
          },
          "execution_count": 56
        },
        {
          "output_type": "display_data",
          "data": {
            "image/png": "[encoded data removed]",
            "text/plain": [
              "<Figure size 432x288 with 1 Axes>"
            ]
          },
          "metadata": {
            "tags": [],
            "needs_background": "light"
          }
        }
      ]
    }
  ]
}